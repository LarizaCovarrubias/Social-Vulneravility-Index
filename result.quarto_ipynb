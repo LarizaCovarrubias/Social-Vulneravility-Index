{
  "cells": [
    {
      "cell_type": "markdown",
      "metadata": {},
      "source": [
        "# Resultados\n",
        "\n",
        "## Mapas de vulnerabilidad social\n"
      ],
      "id": "90640250"
    },
    {
      "cell_type": "code",
      "metadata": {},
      "source": [
        "#| echo: false  # Oculta el código en el documento final\n",
        "\n",
        "from IVS import df_depurado  # Importa solo el DataFrame sin ejecutar todo el script\n",
        "df_depurado.head()"
      ],
      "id": "2136cc57",
      "execution_count": null,
      "outputs": []
    }
  ],
  "metadata": {
    "kernelspec": {
      "name": "python3",
      "language": "python",
      "display_name": "Python 3 (ipykernel)",
      "path": "/home/laboratorio/miniconda3/envs/apd/share/jupyter/kernels/python3"
    }
  },
  "nbformat": 4,
  "nbformat_minor": 5
}